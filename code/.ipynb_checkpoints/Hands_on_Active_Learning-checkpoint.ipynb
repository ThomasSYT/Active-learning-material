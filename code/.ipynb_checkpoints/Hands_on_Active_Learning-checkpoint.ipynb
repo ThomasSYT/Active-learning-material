{
 "cells": [
  {
   "cell_type": "markdown",
   "metadata": {},
   "source": [
    "# Text Analytics Seminar - Hands-on Session on Active Learning\n",
    "The purpose of this session is to experiment with baseline active learing approaches and compare the results. To reduce runtime, this session simply uses a linear support vector machine without any big hyperparameter tuning. Our main objective is to compare different active learning approaches against each other and analyze the learning curves.\n",
    "\n",
    "### General Set up\n",
    "\n",
    "First, we import all required modules and define the configuration for training our model:"
   ]
  },
  {
   "cell_type": "code",
   "execution_count": 1,
   "metadata": {
    "collapsed": true
   },
   "outputs": [],
   "source": [
    "import argparse\n",
    "import sys\n",
    "import numpy as np\n",
    "\n",
    "from sklearn.metrics import accuracy_score\n",
    "from sklearn.svm import SVC\n",
    "\n",
    "import data_processing as dp\n",
    "\n",
    "config = {\n",
    "    'embedding':'embedding/glove.6B.50d.subset.oov.vec',\n",
    "    'train':'data/train.tsv',\n",
    "    'dev':'data/dev.tsv',\n",
    "    'test':'data/test.tsv'\n",
    "}"
   ]
  },
  {
   "cell_type": "markdown",
   "metadata": {},
   "source": [
    "Now load our data in the appropriate format:"
   ]
  },
  {
   "cell_type": "code",
   "execution_count": 2,
   "metadata": {},
   "outputs": [
    {
     "name": "stdout",
     "output_type": "stream",
     "text": [
      "Loaded data.\n"
     ]
    }
   ],
   "source": [
    "###########################################\n",
    "#       Loading data and vectors\n",
    "###########################################\n",
    "    \n",
    "# Load our pre-trained word embedding\n",
    "embedding,embed_dim = dp.load_word2vec_embedding(config['embedding'])\n",
    "\n",
    "# Load our training set, dev set, and test set\n",
    "X_train, y_train = dp.load_data(config['train'], textindex=1, labelindex=0)\n",
    "X_dev, y_dev = dp.load_data(config['dev'], textindex=1, labelindex=0)\n",
    "X_test, y_test = dp.load_data(config['test'], textindex=1, labelindex=0)\n",
    "\n",
    "# Get index-word/label dicts for lookup:\n",
    "vocab_dict = dp.get_index_dict(X_train + X_dev + X_test)\n",
    "\n",
    "# Replace words / labels in the data by the according index\n",
    "vocab_dict_flipped = dict((v,k) for k,v in vocab_dict.items())\n",
    "\n",
    "# Get indexed data and labels\n",
    "X_train_index = [[vocab_dict_flipped[word] for word in chunk] for chunk in X_train]\n",
    "X_dev_index =  [[vocab_dict_flipped[word] for word in chunk] for chunk in X_dev]\n",
    "X_test_index =  [[vocab_dict_flipped[word] for word in chunk] for chunk in X_test]\n",
    "\n",
    "# Get embedding matrix:\n",
    "embed_matrix = dp.get_embedding_matrix(embedding,vocab_dict)\n",
    "\n",
    "# Use the simple count over all features in a single example:\n",
    "# Do average over word vectors:\n",
    "X_train_embedded = [np.mean([embed_matrix[element] for element in example], axis=0) for example in X_train_index]\n",
    "X_dev_embedded = [np.mean([embed_matrix[element] for element in example], axis=0) for example in X_dev_index]\n",
    "X_test_embedded = [np.mean([embed_matrix[element] for element in example], axis=0) for example in X_test_index]\n",
    "\n",
    "print(\"Loaded data.\")"
   ]
  },
  {
   "cell_type": "markdown",
   "metadata": {},
   "source": [
    "Finally, we can start training our SVM and tune it's c on the development set! Since we have binary text classification, it is sufficient to use accuracy as our evaluation metric."
   ]
  },
  {
   "cell_type": "code",
   "execution_count": 3,
   "metadata": {},
   "outputs": [
    {
     "name": "stdout",
     "output_type": "stream",
     "text": [
      "Best dev score:  0.89\n"
     ]
    }
   ],
   "source": [
    "# Start training our SVM on the binary classification task (accuracy is enough for evaluation)\n",
    "# Tune C on the dev set, test on the test set:\n",
    "best_acc = 0.0\n",
    "best_c_acc = 0.0\n",
    "\n",
    "for c in [0.001, 0.01, 0.1, 1, 2, 4, 8, 16, 32, 64, 128, 256]:\n",
    "    model_svm = SVC(C=c, kernel='linear', probability=True)\n",
    "    model_svm.fit(X_train_embedded, y_train)\n",
    "\n",
    "    # Use dev set to tune our hyperparameters\n",
    "    pred_svm = model_svm.predict(X_dev_embedded)\n",
    "    true_svm = y_dev\n",
    "\n",
    "    acc = accuracy_score(true_svm,pred_svm)\n",
    "\n",
    "    if acc > best_acc:\n",
    "        best_acc = acc\n",
    "        best_c_acc = c\n",
    "\n",
    "print(\"Best dev score: \", best_acc)"
   ]
  },
  {
   "cell_type": "markdown",
   "metadata": {},
   "source": [
    "At last, we evaluate our tuned model on the test set to get its true performance:"
   ]
  },
  {
   "cell_type": "code",
   "execution_count": 4,
   "metadata": {},
   "outputs": [
    {
     "name": "stdout",
     "output_type": "stream",
     "text": [
      "Best C:  2\n",
      "Test score:  0.89375\n"
     ]
    }
   ],
   "source": [
    "# Test best model on test set\n",
    "best_model = SVC(C=best_c_acc, kernel='linear', probability=True)\n",
    "best_model.fit(X_train_embedded, y_train)\n",
    "\n",
    "best_pred = best_model.predict(X_test_embedded)\n",
    "test_acc = accuracy_score(y_test,best_pred)\n",
    "\n",
    "print(\"Best C: \",best_c_acc)\n",
    "print(\"Test score: \",test_acc)"
   ]
  },
  {
   "cell_type": "markdown",
   "metadata": {},
   "source": [
    "### Active Learning Model\n",
    "Now we modify the model to be able to learn actively. First, we define what we need to configure for testing active learning strategies."
   ]
  },
  {
   "cell_type": "code",
   "execution_count": 18,
   "metadata": {
    "collapsed": true
   },
   "outputs": [],
   "source": [
    "from active_learning import Active_Learning\n",
    "\n",
    "active_learning_config = {\n",
    "    'embedding':'embedding/glove.6B.50d.subset.oov.vec',\n",
    "    'train_labeled':'data/train_labeled.tsv',\n",
    "    'train_unlabeled':'data/train_unlabeled.tsv',\n",
    "    'test':'data/test.tsv',\n",
    "    'sampling':'random', # Sampling strategy, currently implemented ['random', 'confidence']\n",
    "    'c':2, # C for our SVM\n",
    "    'seed':42, # Random seed for the pseudo-randomnumber generator\n",
    "    'maximum_iterations':500, # Maximum number of active learning iterations\n",
    "    'active_learning_history':'results/svm-al-random.result' # File to store the results in\n",
    "}"
   ]
  },
  {
   "cell_type": "markdown",
   "metadata": {},
   "source": [
    "Now load all the required data. Keep in mind that we do not need any development set, since we already tuned our hyperparameters when calculating the upper bound."
   ]
  },
  {
   "cell_type": "code",
   "execution_count": 19,
   "metadata": {},
   "outputs": [
    {
     "name": "stdout",
     "output_type": "stream",
     "text": [
      "Number of initial training documents:  2\n",
      "Loaded data.\n"
     ]
    }
   ],
   "source": [
    "embedding,embed_dim = dp.load_word2vec_embedding(active_learning_config['embedding'])\n",
    "\n",
    "X_train, y_train = dp.load_data(active_learning_config['train_labeled'], textindex=1, labelindex=0)\n",
    "X_test, y_test = dp.load_data(active_learning_config['test'], textindex=1, labelindex=0)\n",
    "\n",
    "# Active learning data\n",
    "X_active, y_active = dp.load_data(active_learning_config['train_unlabeled'], textindex=1, labelindex=0)\n",
    "\n",
    "# Get index-word/label dicts for lookup:\n",
    "# NOTE: Creating a dictionary out of all data has the implicit assumption \n",
    "#       that all the words we encounter during sampling and testing we have already seen during training.\n",
    "vocab_dict = dp.get_index_dict(X_train + X_test + X_active) \n",
    "\n",
    "# Replace words / labels in the data by the according index\n",
    "vocab_dict_flipped = dict((v,k) for k,v in vocab_dict.items())\n",
    "\n",
    "# Get indexed data and labels\n",
    "X_train_index = [[vocab_dict_flipped[word] for word in chunk] for chunk in X_train]\n",
    "X_test_index =  [[vocab_dict_flipped[word] for word in chunk] for chunk in X_test]\n",
    "\n",
    "# Active learning data\n",
    "X_active_index =  [[vocab_dict_flipped[word] for word in chunk] for chunk in X_active]\n",
    "\n",
    "print (\"Number of initial training documents: \",len(X_train))\n",
    "\n",
    "# Get embedding matrix:\n",
    "embed_matrix = dp.get_embedding_matrix(embedding,vocab_dict)\n",
    "\n",
    "# Use the simple count over all features in a single example:\n",
    "# Do average over word vectors:\n",
    "X_train_embedded = [np.mean([embed_matrix[element] for element in example], axis=0) for example in X_train_index]\n",
    "X_test_embedded = [np.mean([embed_matrix[element] for element in example], axis=0) for example in X_test_index]\n",
    "\n",
    "# Active learning\n",
    "X_active_embedded = [np.mean([embed_matrix[element] for element in example], axis=0) for example in X_active_index]\n",
    "\n",
    "# Define our pools for active learning\n",
    "pool_data = X_active_embedded[:]\n",
    "pool_labels = y_active[:]\n",
    "\n",
    "print(\"Loaded data.\")"
   ]
  },
  {
   "cell_type": "markdown",
   "metadata": {},
   "source": [
    "After loading all the necessary data, we start doing active learning steps until some stopping criterium."
   ]
  },
  {
   "cell_type": "code",
   "execution_count": null,
   "metadata": {
    "collapsed": true
   },
   "outputs": [],
   "source": [
    "# Active learning results for visualization\n",
    "step, acc = [],[]\n",
    "\n",
    "iteration = 0\n",
    "\n",
    "outlog = open(active_learning_config['active_learning_history'],'w')\n",
    "outlog.write('Iteration\\tAccuracy\\n')\n",
    "\n",
    "while len(pool_data) > 1 and iteration < active_learning_config['maximum_iterations']:\n",
    "    if len(X_train_embedded) % 50 == 0:\n",
    "        print(\"Training on: \", len(X_train_embedded), \" instances.\")\n",
    "\n",
    "    model_svm = SVC(C=c, kernel='linear', probability=True)\n",
    "    model_svm.fit(X_train_embedded, y_train)\n",
    "\n",
    "    pred = model_svm.predict(X_test_embedded)\n",
    "\n",
    "    test_acc = accuracy_score(y_test,pred)\n",
    "    \n",
    "    outlog.write('{}\\t{}\\n'.format(iteration,test_acc))\n",
    "\n",
    "    step.append(iteration); acc.append(test_acc)\n",
    "\n",
    "    # Add data from the pool to the training set based on our active learning:\n",
    "    al = Active_Learning(pool_data, model_svm, active_learning_config['seed'])\n",
    "    if active_learning_config['sampling'] == 'random':\n",
    "        add_sample_data = al.get_random()\n",
    "    else:\n",
    "        add_sample_data = al.get_most_uncertain(active_learning_config['sampling'])\n",
    "\n",
    "    # Get the data index from pool\n",
    "    sample_index = dp.get_array_index(pool_data, add_sample_data)\n",
    "        \n",
    "    # Get the according label\n",
    "    add_sample_label = pool_labels[sample_index]\n",
    "\n",
    "    # Add it to the training pool\n",
    "    X_train_embedded.append(add_sample_data)\n",
    "    y_train.append(add_sample_label)\n",
    "\n",
    "    # Remove labeled data from pool\n",
    "    del pool_labels[sample_index]\n",
    "    del pool_data[sample_index]\n",
    "\n",
    "    iteration += 1\n",
    "\n",
    "outlog.close()"
   ]
  },
  {
   "cell_type": "markdown",
   "metadata": {},
   "source": [
    "### Visualizing the Learning Curve \n",
    "Now visualize the performance of the model with increasing number of examples. How does it look like?"
   ]
  },
  {
   "cell_type": "code",
   "execution_count": null,
   "metadata": {
    "collapsed": true
   },
   "outputs": [],
   "source": [
    "import visualize as vz\n",
    "\n",
    "vz.plot(step, acc)"
   ]
  },
  {
   "cell_type": "markdown",
   "metadata": {},
   "source": [
    "### Comparing Different Strategies\n",
    "The module active_learning contains the class Active_Learning, which currenty implements a random baseline and least confident sampling. Can you think of other strategies? Try to add them for comparison."
   ]
  },
  {
   "cell_type": "markdown",
   "metadata": {},
   "source": [
    "### Visualizing different Learning Curves\n",
    "To compare different learning curves, pass a list of different result files into the following code snippet. Some default result files are already provided in the 'results' folder. You already precomputed the upper bound in the first part of this exercise, so we should also add this to the plot."
   ]
  },
  {
   "cell_type": "code",
   "execution_count": 25,
   "metadata": {},
   "outputs": [
    {
     "data": {
      "image/png": "[encoded data removed]",
      "text/plain": [
       "<matplotlib.figure.Figure at 0x7f8f12da72b0>"
      ]
     },
     "metadata": {},
     "output_type": "display_data"
    }
   ],
   "source": [
    "result_files = ['results/svm-al-random.result', 'results/svm-al-confidence.result']\n",
    "upper_bound = 0.89375\n",
    "# Read all results\n",
    "results = [dp.read_active_learning_history(single_file) for single_file in result_files]\n",
    "# Generate captions\n",
    "captions = [single_file.split('/')[-1] for single_file in result_files]\n",
    "# Plot all graphs\n",
    "vz.plot_several(results, captions, upper_bound)"
   ]
  }
 ],
 "metadata": {
  "kernelspec": {
   "display_name": "Python 3",
   "language": "python",
   "name": "python3"
  },
  "language_info": {
   "codemirror_mode": {
    "name": "ipython",
    "version": 3
   },
   "file_extension": ".py",
   "mimetype": "text/x-python",
   "name": "python",
   "nbconvert_exporter": "python",
   "pygments_lexer": "ipython3",
   "version": "3.6.3"
  }
 },
 "nbformat": 4,
 "nbformat_minor": 2
}
